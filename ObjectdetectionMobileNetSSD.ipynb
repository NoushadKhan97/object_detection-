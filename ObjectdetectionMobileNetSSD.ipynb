{
 "cells": [
  {
   "cell_type": "code",
   "execution_count": 1,
   "metadata": {},
   "outputs": [
    {
     "ename": "FileNotFoundError",
     "evalue": "[Errno 2] No such file or directory: 'coco.names'",
     "output_type": "error",
     "traceback": [
      "\u001b[1;31m---------------------------------------------------------------------------\u001b[0m",
      "\u001b[1;31mFileNotFoundError\u001b[0m                         Traceback (most recent call last)",
      "\u001b[1;32m<ipython-input-1-1fe7c057e067>\u001b[0m in \u001b[0;36m<module>\u001b[1;34m\u001b[0m\n\u001b[0;32m     12\u001b[0m \u001b[0mclassFile\u001b[0m\u001b[1;33m=\u001b[0m\u001b[1;34m'coco.names'\u001b[0m\u001b[1;33m\u001b[0m\u001b[1;33m\u001b[0m\u001b[0m\n\u001b[0;32m     13\u001b[0m \u001b[1;33m\u001b[0m\u001b[0m\n\u001b[1;32m---> 14\u001b[1;33m \u001b[1;32mwith\u001b[0m \u001b[0mopen\u001b[0m\u001b[1;33m(\u001b[0m\u001b[0mclassFile\u001b[0m\u001b[1;33m,\u001b[0m\u001b[1;34m'rt'\u001b[0m\u001b[1;33m)\u001b[0m \u001b[1;32mas\u001b[0m \u001b[0mf\u001b[0m\u001b[1;33m:\u001b[0m\u001b[1;33m\u001b[0m\u001b[1;33m\u001b[0m\u001b[0m\n\u001b[0m\u001b[0;32m     15\u001b[0m     \u001b[0mclassname\u001b[0m\u001b[1;33m=\u001b[0m\u001b[0mf\u001b[0m\u001b[1;33m.\u001b[0m\u001b[0mread\u001b[0m\u001b[1;33m(\u001b[0m\u001b[1;33m)\u001b[0m\u001b[1;33m.\u001b[0m\u001b[0mrstrip\u001b[0m\u001b[1;33m(\u001b[0m\u001b[1;34m'\\n'\u001b[0m\u001b[1;33m)\u001b[0m\u001b[1;33m.\u001b[0m\u001b[0msplit\u001b[0m\u001b[1;33m(\u001b[0m\u001b[1;34m\"\\n\"\u001b[0m\u001b[1;33m)\u001b[0m\u001b[1;33m\u001b[0m\u001b[1;33m\u001b[0m\u001b[0m\n\u001b[0;32m     16\u001b[0m \u001b[1;33m\u001b[0m\u001b[0m\n",
      "\u001b[1;31mFileNotFoundError\u001b[0m: [Errno 2] No such file or directory: 'coco.names'"
     ]
    }
   ],
   "source": [
    "import cv2\n",
    "import numpy as np\n",
    "#img=cv2.imread(\"car3.jfif\")\n",
    "\n",
    "thresh = 0.4;\n",
    "nms_threshold=0.2\n",
    "cap=cv2.VideoCapture(0)\n",
    "cap.set(3,640)\n",
    "\n",
    "    \n",
    "classname=[]\n",
    "classFile='coco.names'\n",
    "\n",
    "with open(classFile,'rt') as f:\n",
    "    classname=f.read().rstrip('\\n').split(\"\\n\")\n",
    "\n",
    "configpath=('ssd_mobilenet_v3_large_coco_2020_01_14.pbtxt')\n",
    "weightspath=('frozen_inference_graph.pb')\n",
    "\n",
    "net= cv2.dnn_DetectionModel(weightspath,configpath)\n",
    "net.setInputSize(320,320)\n",
    "net.setInputScale(1.0 / 127.5)\n",
    "net.setInputMean((127.5 ,127.5,127.5))\n",
    "net.setInputSwapRB(True)\n",
    "cap.set(4,480)\n",
    "while(cap.isOpened()):\n",
    "    success,img=cap.read()\n",
    "    classIds,confs,boundingbox = net.detect(img,confThreshold = thresh)\n",
    "    \n",
    "    boundingbox=list(boundingbox)\n",
    "    confs = list(np.array(confs).reshape(1,-1)[0])\n",
    "    confs=list(map(float,confs))\n",
    "  \n",
    "    \n",
    "    # --------code for non maximum supression-------------\n",
    "    indices = cv2.dnn.NMSBoxes(boundingbox,confs,thresh,nms_threshold)\n",
    "    \n",
    "    for i in indices:\n",
    "        i=i[0]\n",
    "        box=boundingbox[i]\n",
    "        x,y,w,h=box[0],box[1],box[2],box[3]\n",
    "        cv2.rectangle(img,(x,y),(x+w,y+h),color=(0,255,0),thickness=5)\n",
    "        cv2.putText(img,classname[classIds[i][0]-1].upper(),(box[0],box[1]),cv2.FONT_HERSHEY_SIMPLEX,1,(0,0,255),5)\n",
    "        cv2.putText(img,str(confs),(box[0]+150,box[1]+150),cv2.FONT_HERSHEY_SIMPLEX,1,(0,0,255),5)\n",
    "    \n",
    "    cv2.imshow(\"image\",img)\n",
    "    #print(classname[classId-1])\n",
    "    if cv2.waitKey(1)==ord('q'):\n",
    "        break;\n",
    "cv2.destroyAllWindows()\n",
    "\n"
   ]
  },
  {
   "cell_type": "code",
   "execution_count": null,
   "metadata": {},
   "outputs": [],
   "source": [
    "if len(classIds) != 0:\n",
    "        for classId, confidence,box in zip(classIds.flatten(),confs.flatten(),boundingbox):\n",
    "            cv2.rectangle(img,box,color=(0,255,0),thickness=5)\n",
    "            cv2.putText(img,classname[classId-1].upper(),(box[0],box[1]),cv2.FONT_HERSHEY_SIMPLEX,1,(0,0,255),5)\n",
    "           # cv2.putText(img,str(confidence),(box[0]+150,box[1]+150),cv2.FONT_HERSHEY_SIMPLEX,1,(0,0,255),5)"
   ]
  },
  {
   "cell_type": "code",
   "execution_count": null,
   "metadata": {},
   "outputs": [],
   "source": []
  }
 ],
 "metadata": {
  "kernelspec": {
   "display_name": "Python 3",
   "language": "python",
   "name": "python3"
  },
  "language_info": {
   "codemirror_mode": {
    "name": "ipython",
    "version": 3
   },
   "file_extension": ".py",
   "mimetype": "text/x-python",
   "name": "python",
   "nbconvert_exporter": "python",
   "pygments_lexer": "ipython3",
   "version": "3.7.6"
  }
 },
 "nbformat": 4,
 "nbformat_minor": 4
}
