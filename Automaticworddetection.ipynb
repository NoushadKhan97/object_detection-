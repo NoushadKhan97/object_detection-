{
 "cells": [
  {
   "cell_type": "markdown",
   "metadata": {},
   "source": [
    "# By: Noushad Khan\n",
    "\n"
   ]
  },
  {
   "cell_type": "markdown",
   "metadata": {},
   "source": [
    "# The Sparks Foundation \n"
   ]
  },
  {
   "cell_type": "markdown",
   "metadata": {},
   "source": [
    "# Computer Vision and Iot Internship"
   ]
  },
  {
   "cell_type": "markdown",
   "metadata": {},
   "source": [
    "# TASK 1: Automatic word detection "
   ]
  },
  {
   "cell_type": "code",
   "execution_count": null,
   "metadata": {},
   "outputs": [],
   "source": []
  },
  {
   "cell_type": "code",
   "execution_count": 2,
   "metadata": {
    "scrolled": true
   },
   "outputs": [],
   "source": [
    "import cv2\n",
    "import pytesseract as pt\n",
    "pt.pytesseract.tesseract_cmd=r'C:\\Program Files (x86)\\ Tesseract-OCR\\tesseract.exe'\n",
    "\n",
    "image=cv2.imread(\"khan.png\")\n",
    "himg,wimg,_=image.shape\n",
    "\n",
    "boxes=pt.image_to_boxes(image)\n",
    "data=pt.image_to_data(image)\n",
    "\n",
    "\n",
    "for x,b in enumerate(data.splitlines()):\n",
    "    if x!=0:\n",
    "        b=b.split()\n",
    "        \n",
    "\n",
    "        if len(b)==12:\n",
    "            x,y,w,h=int(b[6]),int(b[7]),int(b[8]),int(b[9])\n",
    "            \n",
    "            cv2.putText(image,b[11],(x,y),cv2.FONT_HERSHEY_SIMPLEX,1,(255,0,0),3)\n",
    "            cv2.rectangle(image,(x,y),(w+x,h+y),(255,0,255),1)\n",
    "            \n",
    "\n",
    "\n",
    "    \n",
    "cv2.imshow(\"imge\",image)\n",
    "cv2.waitKey(0)\n",
    "cv2.destroyAllWindows()  \n",
    "\n"
   ]
  },
  {
   "cell_type": "code",
   "execution_count": null,
   "metadata": {},
   "outputs": [],
   "source": []
  },
  {
   "cell_type": "markdown",
   "metadata": {},
   "source": [
    "# TASK 1 -  OBJECT DETECTION"
   ]
  },
  {
   "cell_type": "code",
   "execution_count": null,
   "metadata": {},
   "outputs": [],
   "source": []
  },
  {
   "cell_type": "code",
   "execution_count": 3,
   "metadata": {},
   "outputs": [],
   "source": [
    "import cv2\n",
    "import numpy as np\n",
    "#img=cv2.imread(\"car3.jfif\")\n",
    "\n",
    "thresh = 0.4;\n",
    "nms_threshold=0.2\n",
    "cap=cv2.VideoCapture(0)\n",
    "cap.set(3,640)\n",
    "\n",
    "    \n",
    "classname=[]\n",
    "classFile='coco.names'\n",
    "\n",
    "with open(classFile,'rt') as f:\n",
    "    classname=f.read().rstrip('\\n').split(\"\\n\")\n",
    "\n",
    "configpath=('ssd_mobilenet_v3_large_coco_2020_01_14.pbtxt')\n",
    "weightspath=('frozen_inference_graph.pb')\n",
    "\n",
    "net= cv2.dnn_DetectionModel(weightspath,configpath)\n",
    "net.setInputSize(320,320)\n",
    "net.setInputScale(1.0 / 127.5)\n",
    "net.setInputMean((127.5 ,127.5,127.5))\n",
    "net.setInputSwapRB(True)\n",
    "cap.set(4,480)\n",
    "while(cap.isOpened()):\n",
    "    success,img=cap.read()\n",
    "    classIds,confs,boundingbox = net.detect(img,confThreshold = thresh)\n",
    "    \n",
    "    boundingbox=list(boundingbox)\n",
    "    confs = list(np.array(confs).reshape(1,-1)[0])\n",
    "    confs=list(map(float,confs))\n",
    "  \n",
    "    \n",
    "    # --------code for non maximum supression-------------\n",
    "    indices = cv2.dnn.NMSBoxes(boundingbox,confs,thresh,nms_threshold)\n",
    "    \n",
    "    for i in indices:\n",
    "        i=i[0]\n",
    "        box=boundingbox[i]\n",
    "        x,y,w,h=box[0],box[1],box[2],box[3]\n",
    "        cv2.rectangle(img,(x,y),(x+w,y+h),color=(0,255,0),thickness=5)\n",
    "        cv2.putText(img,classname[classIds[i][0]-1].upper(),(box[0],box[1]),cv2.FONT_HERSHEY_SIMPLEX,1,(0,0,255),5)\n",
    "        #cv2.putText(img,str(confs),(box[0]+150,box[1]+150),cv2.FONT_HERSHEY_SIMPLEX,1,(0,0,255),5)\n",
    "    \n",
    "    cv2.imshow(\"image\",img)\n",
    "    #print(classname[classId-1])\n",
    "    if cv2.waitKey(1)==ord('q'):\n",
    "        break;\n",
    "cv2.destroyAllWindows()\n",
    "\n"
   ]
  },
  {
   "cell_type": "code",
   "execution_count": null,
   "metadata": {},
   "outputs": [],
   "source": []
  }
 ],
 "metadata": {
  "kernelspec": {
   "display_name": "Python 3",
   "language": "python",
   "name": "python3"
  },
  "language_info": {
   "codemirror_mode": {
    "name": "ipython",
    "version": 3
   },
   "file_extension": ".py",
   "mimetype": "text/x-python",
   "name": "python",
   "nbconvert_exporter": "python",
   "pygments_lexer": "ipython3",
   "version": "3.7.6"
  }
 },
 "nbformat": 4,
 "nbformat_minor": 4
}
